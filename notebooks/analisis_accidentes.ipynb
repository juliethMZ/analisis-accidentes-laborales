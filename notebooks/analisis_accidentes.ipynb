{
 "cells": [
  {
   "cell_type": "markdown",
   "id": "a2a8ed32",
   "metadata": {},
   "source": [
    "# 🧠 Análisis de Accidentes Laborales\n",
    "\n",
    "Este notebook contiene el análisis exploratorio de datos sobre accidentes laborales simulados en Colombia entre 2020 y 2023."
   ]
  },
  {
   "cell_type": "markdown",
   "id": "0096dfbf",
   "metadata": {},
   "source": [
    "## 1. Importación de librerías"
   ]
  },
  {
   "cell_type": "code",
   "execution_count": null,
   "id": "86ecafe1",
   "metadata": {},
   "outputs": [],
   "source": [
    "import pandas as pd\n",
    "import matplotlib.pyplot as plt\n",
    "import seaborn as sns\n",
    "\n",
    "# Configuración de gráficos\n",
    "sns.set(style='whitegrid')"
   ]
  },
  {
   "cell_type": "markdown",
   "id": "5f30fb8c",
   "metadata": {},
   "source": [
    "## 2. Cargar el dataset"
   ]
  },
  {
   "cell_type": "code",
   "execution_count": null,
   "id": "36eb65cc",
   "metadata": {},
   "outputs": [],
   "source": [
    "# Cargar el archivo CSV\n",
    "ruta = '../data/dataset_accidentes_laborales_300.csv'\n",
    "df = pd.read_csv(ruta)\n",
    "df.head()"
   ]
  },
  {
   "cell_type": "markdown",
   "id": "4a57b3bc",
   "metadata": {},
   "source": [
    "## 3. Exploración inicial de los datos"
   ]
  },
  {
   "cell_type": "code",
   "execution_count": null,
   "id": "2c0c1a5b",
   "metadata": {},
   "outputs": [],
   "source": [
    "df.info()\n",
    "\n",
    "df.describe()"
   ]
  },
  {
   "cell_type": "markdown",
   "id": "d593079d",
   "metadata": {},
   "source": [
    "## 4. Distribución de accidentes por año"
   ]
  },
  {
   "cell_type": "code",
   "execution_count": null,
   "id": "3a44b42c",
   "metadata": {},
   "outputs": [],
   "source": [
    "plt.figure(figsize=(8,5))\n",
    "sns.countplot(data=df, x='Año', palette='viridis')\n",
    "plt.title('Accidentes por Año')\n",
    "plt.show()"
   ]
  },
  {
   "cell_type": "markdown",
   "id": "9e44a05e",
   "metadata": {},
   "source": [
    "## 5. Accidentes por región"
   ]
  },
  {
   "cell_type": "code",
   "execution_count": null,
   "id": "f86505bf",
   "metadata": {},
   "outputs": [],
   "source": [
    "acc_por_region = df.groupby('Región')['Número de Accidentes'].sum().sort_values(ascending=False)\n",
    "acc_por_region.plot(kind='bar', figsize=(8,5), color='teal')\n",
    "plt.title('Accidentes por Región')\n",
    "plt.ylabel('Total de Accidentes')\n",
    "plt.show()"
   ]
  },
  {
   "cell_type": "markdown",
   "id": "83e4b40c",
   "metadata": {},
   "source": [
    "## 6. Sector económico más afectado"
   ]
  },
  {
   "cell_type": "code",
   "execution_count": null,
   "id": "920ab5f6",
   "metadata": {},
   "outputs": [],
   "source": [
    "plt.figure(figsize=(10,5))\n",
    "sns.barplot(data=df, x='Sector Económico', y='Número de Accidentes', estimator=sum, ci=None, palette='muted')\n",
    "plt.xticks(rotation=45)\n",
    "plt.title('Total de Accidentes por Sector Económico')\n",
    "plt.show()"
   ]
  },
  {
   "cell_type": "markdown",
   "id": "dfb9813d",
   "metadata": {},
   "source": [
    "## 7. Análisis por empresa (opcional)"
   ]
  },
  {
   "cell_type": "code",
   "execution_count": null,
   "id": "5e63e962",
   "metadata": {},
   "outputs": [],
   "source": [
    "# Puedes completar esta sección si deseas explorar los datos por empresa"
   ]
  },
  {
   "cell_type": "markdown",
   "id": "ef974f81",
   "metadata": {},
   "source": [
    "## 8. Conclusiones y próximos pasos"
   ]
  },
  {
   "cell_type": "markdown",
   "id": "f3f445db",
   "metadata": {},
   "source": [
    "📝 Escribe aquí tus hallazgos más importantes y posibles acciones futuras..."
   ]
  }
 ],
 "metadata": {},
 "nbformat": 4,
 "nbformat_minor": 5
}
